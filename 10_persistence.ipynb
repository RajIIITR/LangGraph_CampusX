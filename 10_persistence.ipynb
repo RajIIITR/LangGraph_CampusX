{
 "cells": [
  {
   "cell_type": "markdown",
   "id": "15969c80",
   "metadata": {},
   "source": [
    "### Benefit of Persistence\n",
    "\n",
    "- Short Term Memory <br>\n",
    "- Fault Tolerance <br>\n",
    "- Human in the Loop <br>\n",
    "- Time Travel <br>"
   ]
  },
  {
   "cell_type": "code",
   "execution_count": 1,
   "id": "5fe01464",
   "metadata": {},
   "outputs": [
    {
     "name": "stderr",
     "output_type": "stream",
     "text": [
      "c:\\Users\\Abhishek\\Desktop\\langgraph_learning\\langgraph_learning\\lib\\site-packages\\tqdm\\auto.py:21: TqdmWarning: IProgress not found. Please update jupyter and ipywidgets. See https://ipywidgets.readthedocs.io/en/stable/user_install.html\n",
      "  from .autonotebook import tqdm as notebook_tqdm\n"
     ]
    }
   ],
   "source": [
    "from langgraph.graph import StateGraph, START, END\n",
    "from typing import TypedDict\n",
    "from langchain_google_genai import ChatGoogleGenerativeAI\n",
    "from dotenv import load_dotenv\n",
    "from langgraph.checkpoint.memory import InMemorySaver"
   ]
  },
  {
   "cell_type": "code",
   "execution_count": 2,
   "id": "d65bfc11",
   "metadata": {},
   "outputs": [],
   "source": [
    "load_dotenv()\n",
    "\n",
    "llm = ChatGoogleGenerativeAI(model = \"gemini-2.5-flash\")"
   ]
  },
  {
   "cell_type": "code",
   "execution_count": 3,
   "id": "5922b899",
   "metadata": {},
   "outputs": [],
   "source": [
    "class JokeState(TypedDict):\n",
    "\n",
    "    topic: str\n",
    "    joke: str\n",
    "    explanation: str"
   ]
  },
  {
   "cell_type": "code",
   "execution_count": 4,
   "id": "0561076c",
   "metadata": {},
   "outputs": [],
   "source": [
    "def generate_joke(state: JokeState):\n",
    "\n",
    "    prompt = f'generate a joke on the topic {state[\"topic\"]}'\n",
    "    response = llm.invoke(prompt).content\n",
    "\n",
    "    return {'joke': response}"
   ]
  },
  {
   "cell_type": "code",
   "execution_count": 5,
   "id": "d95ff880",
   "metadata": {},
   "outputs": [],
   "source": [
    "def generate_explanation(state: JokeState):\n",
    "\n",
    "    prompt = f'write an explanation for the joke - {state[\"joke\"]}'\n",
    "    response = llm.invoke(prompt).content\n",
    "\n",
    "    return {'explanation': response}"
   ]
  },
  {
   "cell_type": "code",
   "execution_count": 6,
   "id": "a1093470",
   "metadata": {},
   "outputs": [],
   "source": [
    "graph = StateGraph(JokeState)\n",
    "\n",
    "graph.add_node('generate_joke', generate_joke)\n",
    "graph.add_node('generate_explanation', generate_explanation)\n",
    "\n",
    "graph.add_edge(START, 'generate_joke')\n",
    "graph.add_edge('generate_joke', 'generate_explanation')\n",
    "graph.add_edge('generate_explanation', END)\n",
    "\n",
    "checkpointer = InMemorySaver()\n",
    "\n",
    "workflow = graph.compile(checkpointer=checkpointer)"
   ]
  },
  {
   "cell_type": "code",
   "execution_count": 7,
   "id": "5e8f11c8",
   "metadata": {},
   "outputs": [
    {
     "data": {
      "text/plain": [
       "{'topic': 'pizza',\n",
       " 'joke': \"Why did the pizza quit its job?\\n\\nBecause it didn't get enough dough!\",\n",
       " 'explanation': 'This joke is a classic example of a **pun**, which relies on a word having two different meanings.\\n\\nHere\\'s the breakdown:\\n\\n1.  **\"Dough\" (Meaning 1 - Literal):** When you think of pizza, \"dough\" immediately brings to mind the soft, raw mixture of flour, water, and yeast that forms the base of the pizza. A pizza literally *is* made from dough.\\n\\n2.  **\"Dough\" (Meaning 2 - Slang):** In informal English, \"dough\" is a common slang term for **money**.\\n\\n3.  **The Punchline:**\\n    *   When someone quits a job, a very common reason is that they aren\\'t getting paid enough – they don\\'t get enough **money** (dough).\\n    *   The joke plays on this by applying the reason to a pizza, making it sound like the pizza is complaining about its salary, using the word \"dough\" in its slang sense.\\n\\nThe humor comes from the unexpected switch in meaning. You start by thinking of \"dough\" in the context of pizza (the ingredient), but then the punchline forces you to consider the other meaning (money) in the context of a job, creating a silly and clever wordplay. The absurdity of a pizza having a job and quitting it also adds to the comedic effect!'}"
      ]
     },
     "execution_count": 7,
     "metadata": {},
     "output_type": "execute_result"
    }
   ],
   "source": [
    "config1 = {\"configurable\": {\"thread_id\": \"1\"}}\n",
    "workflow.invoke({'topic':'pizza'}, config=config1)"
   ]
  },
  {
   "cell_type": "code",
   "execution_count": 8,
   "id": "a6857b9c",
   "metadata": {},
   "outputs": [
    {
     "data": {
      "text/plain": [
       "StateSnapshot(values={'topic': 'pizza', 'joke': \"Why did the pizza quit its job?\\n\\nBecause it didn't get enough dough!\", 'explanation': 'This joke is a classic example of a **pun**, which relies on a word having two different meanings.\\n\\nHere\\'s the breakdown:\\n\\n1.  **\"Dough\" (Meaning 1 - Literal):** When you think of pizza, \"dough\" immediately brings to mind the soft, raw mixture of flour, water, and yeast that forms the base of the pizza. A pizza literally *is* made from dough.\\n\\n2.  **\"Dough\" (Meaning 2 - Slang):** In informal English, \"dough\" is a common slang term for **money**.\\n\\n3.  **The Punchline:**\\n    *   When someone quits a job, a very common reason is that they aren\\'t getting paid enough – they don\\'t get enough **money** (dough).\\n    *   The joke plays on this by applying the reason to a pizza, making it sound like the pizza is complaining about its salary, using the word \"dough\" in its slang sense.\\n\\nThe humor comes from the unexpected switch in meaning. You start by thinking of \"dough\" in the context of pizza (the ingredient), but then the punchline forces you to consider the other meaning (money) in the context of a job, creating a silly and clever wordplay. The absurdity of a pizza having a job and quitting it also adds to the comedic effect!'}, next=(), config={'configurable': {'thread_id': '1', 'checkpoint_ns': '', 'checkpoint_id': '1f094a57-2f0e-6437-8002-423c0e562ea6'}}, metadata={'source': 'loop', 'writes': {'generate_explanation': {'explanation': 'This joke is a classic example of a **pun**, which relies on a word having two different meanings.\\n\\nHere\\'s the breakdown:\\n\\n1.  **\"Dough\" (Meaning 1 - Literal):** When you think of pizza, \"dough\" immediately brings to mind the soft, raw mixture of flour, water, and yeast that forms the base of the pizza. A pizza literally *is* made from dough.\\n\\n2.  **\"Dough\" (Meaning 2 - Slang):** In informal English, \"dough\" is a common slang term for **money**.\\n\\n3.  **The Punchline:**\\n    *   When someone quits a job, a very common reason is that they aren\\'t getting paid enough – they don\\'t get enough **money** (dough).\\n    *   The joke plays on this by applying the reason to a pizza, making it sound like the pizza is complaining about its salary, using the word \"dough\" in its slang sense.\\n\\nThe humor comes from the unexpected switch in meaning. You start by thinking of \"dough\" in the context of pizza (the ingredient), but then the punchline forces you to consider the other meaning (money) in the context of a job, creating a silly and clever wordplay. The absurdity of a pizza having a job and quitting it also adds to the comedic effect!'}}, 'step': 2, 'parents': {}, 'thread_id': '1'}, created_at='2025-09-18T15:37:56.737975+00:00', parent_config={'configurable': {'thread_id': '1', 'checkpoint_ns': '', 'checkpoint_id': '1f094a56-4266-66c3-8001-b5e4b0c57e2b'}}, tasks=())"
      ]
     },
     "execution_count": 8,
     "metadata": {},
     "output_type": "execute_result"
    }
   ],
   "source": [
    "workflow.get_state(config1)"
   ]
  },
  {
   "cell_type": "code",
   "execution_count": 9,
   "id": "eb9eecda",
   "metadata": {},
   "outputs": [
    {
     "data": {
      "text/plain": [
       "[StateSnapshot(values={'topic': 'pizza', 'joke': \"Why did the pizza quit its job?\\n\\nBecause it didn't get enough dough!\", 'explanation': 'This joke is a classic example of a **pun**, which relies on a word having two different meanings.\\n\\nHere\\'s the breakdown:\\n\\n1.  **\"Dough\" (Meaning 1 - Literal):** When you think of pizza, \"dough\" immediately brings to mind the soft, raw mixture of flour, water, and yeast that forms the base of the pizza. A pizza literally *is* made from dough.\\n\\n2.  **\"Dough\" (Meaning 2 - Slang):** In informal English, \"dough\" is a common slang term for **money**.\\n\\n3.  **The Punchline:**\\n    *   When someone quits a job, a very common reason is that they aren\\'t getting paid enough – they don\\'t get enough **money** (dough).\\n    *   The joke plays on this by applying the reason to a pizza, making it sound like the pizza is complaining about its salary, using the word \"dough\" in its slang sense.\\n\\nThe humor comes from the unexpected switch in meaning. You start by thinking of \"dough\" in the context of pizza (the ingredient), but then the punchline forces you to consider the other meaning (money) in the context of a job, creating a silly and clever wordplay. The absurdity of a pizza having a job and quitting it also adds to the comedic effect!'}, next=(), config={'configurable': {'thread_id': '1', 'checkpoint_ns': '', 'checkpoint_id': '1f094a57-2f0e-6437-8002-423c0e562ea6'}}, metadata={'source': 'loop', 'writes': {'generate_explanation': {'explanation': 'This joke is a classic example of a **pun**, which relies on a word having two different meanings.\\n\\nHere\\'s the breakdown:\\n\\n1.  **\"Dough\" (Meaning 1 - Literal):** When you think of pizza, \"dough\" immediately brings to mind the soft, raw mixture of flour, water, and yeast that forms the base of the pizza. A pizza literally *is* made from dough.\\n\\n2.  **\"Dough\" (Meaning 2 - Slang):** In informal English, \"dough\" is a common slang term for **money**.\\n\\n3.  **The Punchline:**\\n    *   When someone quits a job, a very common reason is that they aren\\'t getting paid enough – they don\\'t get enough **money** (dough).\\n    *   The joke plays on this by applying the reason to a pizza, making it sound like the pizza is complaining about its salary, using the word \"dough\" in its slang sense.\\n\\nThe humor comes from the unexpected switch in meaning. You start by thinking of \"dough\" in the context of pizza (the ingredient), but then the punchline forces you to consider the other meaning (money) in the context of a job, creating a silly and clever wordplay. The absurdity of a pizza having a job and quitting it also adds to the comedic effect!'}}, 'step': 2, 'parents': {}, 'thread_id': '1'}, created_at='2025-09-18T15:37:56.737975+00:00', parent_config={'configurable': {'thread_id': '1', 'checkpoint_ns': '', 'checkpoint_id': '1f094a56-4266-66c3-8001-b5e4b0c57e2b'}}, tasks=()),\n",
       " StateSnapshot(values={'topic': 'pizza', 'joke': \"Why did the pizza quit its job?\\n\\nBecause it didn't get enough dough!\"}, next=('generate_explanation',), config={'configurable': {'thread_id': '1', 'checkpoint_ns': '', 'checkpoint_id': '1f094a56-4266-66c3-8001-b5e4b0c57e2b'}}, metadata={'source': 'loop', 'writes': {'generate_joke': {'joke': \"Why did the pizza quit its job?\\n\\nBecause it didn't get enough dough!\"}}, 'step': 1, 'parents': {}, 'thread_id': '1'}, created_at='2025-09-18T15:37:31.923833+00:00', parent_config={'configurable': {'thread_id': '1', 'checkpoint_ns': '', 'checkpoint_id': '1f094a54-8844-6093-8000-b5ca31a22826'}}, tasks=(PregelTask(id='16cbb28c-6e23-ab50-7312-5517efe3a794', name='generate_explanation', path=('__pregel_pull', 'generate_explanation'), error=None, interrupts=(), state=None, result={'explanation': 'This joke is a classic example of a **pun**, which relies on a word having two different meanings.\\n\\nHere\\'s the breakdown:\\n\\n1.  **\"Dough\" (Meaning 1 - Literal):** When you think of pizza, \"dough\" immediately brings to mind the soft, raw mixture of flour, water, and yeast that forms the base of the pizza. A pizza literally *is* made from dough.\\n\\n2.  **\"Dough\" (Meaning 2 - Slang):** In informal English, \"dough\" is a common slang term for **money**.\\n\\n3.  **The Punchline:**\\n    *   When someone quits a job, a very common reason is that they aren\\'t getting paid enough – they don\\'t get enough **money** (dough).\\n    *   The joke plays on this by applying the reason to a pizza, making it sound like the pizza is complaining about its salary, using the word \"dough\" in its slang sense.\\n\\nThe humor comes from the unexpected switch in meaning. You start by thinking of \"dough\" in the context of pizza (the ingredient), but then the punchline forces you to consider the other meaning (money) in the context of a job, creating a silly and clever wordplay. The absurdity of a pizza having a job and quitting it also adds to the comedic effect!'}),)),\n",
       " StateSnapshot(values={'topic': 'pizza'}, next=('generate_joke',), config={'configurable': {'thread_id': '1', 'checkpoint_ns': '', 'checkpoint_id': '1f094a54-8844-6093-8000-b5ca31a22826'}}, metadata={'source': 'loop', 'writes': None, 'step': 0, 'parents': {}, 'thread_id': '1'}, created_at='2025-09-18T15:36:45.562689+00:00', parent_config={'configurable': {'thread_id': '1', 'checkpoint_ns': '', 'checkpoint_id': '1f094a54-87e8-6c96-bfff-335daa9ddc9c'}}, tasks=(PregelTask(id='1ef625bb-df15-7eaa-9357-0b5830053c9e', name='generate_joke', path=('__pregel_pull', 'generate_joke'), error=None, interrupts=(), state=None, result={'joke': \"Why did the pizza quit its job?\\n\\nBecause it didn't get enough dough!\"}),)),\n",
       " StateSnapshot(values={}, next=('__start__',), config={'configurable': {'thread_id': '1', 'checkpoint_ns': '', 'checkpoint_id': '1f094a54-87e8-6c96-bfff-335daa9ddc9c'}}, metadata={'source': 'input', 'writes': {'__start__': {'topic': 'pizza'}}, 'step': -1, 'parents': {}, 'thread_id': '1'}, created_at='2025-09-18T15:36:45.525314+00:00', parent_config=None, tasks=(PregelTask(id='35e1d842-7b13-6465-5c7b-cd22a0d9a4e2', name='__start__', path=('__pregel_pull', '__start__'), error=None, interrupts=(), state=None, result={'topic': 'pizza'}),))]"
      ]
     },
     "execution_count": 9,
     "metadata": {},
     "output_type": "execute_result"
    }
   ],
   "source": [
    "list(workflow.get_state_history(config1))"
   ]
  },
  {
   "cell_type": "code",
   "execution_count": 10,
   "id": "628a9f28",
   "metadata": {},
   "outputs": [
    {
     "data": {
      "text/plain": [
       "{'topic': 'pasta',\n",
       " 'joke': 'What do you call a fake noodle?\\nAn **impasta!**',\n",
       " 'explanation': 'This joke is a **pun**, which relies on a word sounding similar to another word, but having a different meaning, to create a humorous effect.\\n\\nHere\\'s the breakdown:\\n\\n1.  **\"Impasta\"** sounds exactly like the word **\"impostor.\"**\\n2.  An **\"impostor\"** is someone who pretends to be someone else, or something that is not what it claims to be – essentially, a **fake**.\\n3.  The question asks about a **\"fake noodle.\"**\\n4.  Since **pasta** is a type of noodle, the punchline cleverly combines the idea of \"fake\" (from impostor) with \"pasta\" (the noodle), resulting in \"impasta.\"\\n\\nThe humor comes from the clever wordplay and the unexpected but fitting answer that perfectly describes a \"fake noodle\" while sounding like a word for a \"fake person/thing.\"'}"
      ]
     },
     "execution_count": 10,
     "metadata": {},
     "output_type": "execute_result"
    }
   ],
   "source": [
    "config2 = {\"configurable\": {\"thread_id\": \"2\"}}\n",
    "workflow.invoke({'topic':'pasta'}, config=config2)"
   ]
  },
  {
   "cell_type": "code",
   "execution_count": 11,
   "id": "eef5beb5",
   "metadata": {},
   "outputs": [
    {
     "data": {
      "text/plain": [
       "StateSnapshot(values={'topic': 'pizza', 'joke': \"Why did the pizza quit its job?\\n\\nBecause it didn't get enough dough!\", 'explanation': 'This joke is a classic example of a **pun**, which relies on a word having two different meanings.\\n\\nHere\\'s the breakdown:\\n\\n1.  **\"Dough\" (Meaning 1 - Literal):** When you think of pizza, \"dough\" immediately brings to mind the soft, raw mixture of flour, water, and yeast that forms the base of the pizza. A pizza literally *is* made from dough.\\n\\n2.  **\"Dough\" (Meaning 2 - Slang):** In informal English, \"dough\" is a common slang term for **money**.\\n\\n3.  **The Punchline:**\\n    *   When someone quits a job, a very common reason is that they aren\\'t getting paid enough – they don\\'t get enough **money** (dough).\\n    *   The joke plays on this by applying the reason to a pizza, making it sound like the pizza is complaining about its salary, using the word \"dough\" in its slang sense.\\n\\nThe humor comes from the unexpected switch in meaning. You start by thinking of \"dough\" in the context of pizza (the ingredient), but then the punchline forces you to consider the other meaning (money) in the context of a job, creating a silly and clever wordplay. The absurdity of a pizza having a job and quitting it also adds to the comedic effect!'}, next=(), config={'configurable': {'thread_id': '1', 'checkpoint_ns': '', 'checkpoint_id': '1f094a57-2f0e-6437-8002-423c0e562ea6'}}, metadata={'source': 'loop', 'writes': {'generate_explanation': {'explanation': 'This joke is a classic example of a **pun**, which relies on a word having two different meanings.\\n\\nHere\\'s the breakdown:\\n\\n1.  **\"Dough\" (Meaning 1 - Literal):** When you think of pizza, \"dough\" immediately brings to mind the soft, raw mixture of flour, water, and yeast that forms the base of the pizza. A pizza literally *is* made from dough.\\n\\n2.  **\"Dough\" (Meaning 2 - Slang):** In informal English, \"dough\" is a common slang term for **money**.\\n\\n3.  **The Punchline:**\\n    *   When someone quits a job, a very common reason is that they aren\\'t getting paid enough – they don\\'t get enough **money** (dough).\\n    *   The joke plays on this by applying the reason to a pizza, making it sound like the pizza is complaining about its salary, using the word \"dough\" in its slang sense.\\n\\nThe humor comes from the unexpected switch in meaning. You start by thinking of \"dough\" in the context of pizza (the ingredient), but then the punchline forces you to consider the other meaning (money) in the context of a job, creating a silly and clever wordplay. The absurdity of a pizza having a job and quitting it also adds to the comedic effect!'}}, 'step': 2, 'parents': {}, 'thread_id': '1'}, created_at='2025-09-18T15:37:56.737975+00:00', parent_config={'configurable': {'thread_id': '1', 'checkpoint_ns': '', 'checkpoint_id': '1f094a56-4266-66c3-8001-b5e4b0c57e2b'}}, tasks=())"
      ]
     },
     "execution_count": 11,
     "metadata": {},
     "output_type": "execute_result"
    }
   ],
   "source": [
    "workflow.get_state(config1)"
   ]
  },
  {
   "cell_type": "code",
   "execution_count": 12,
   "id": "f7d0ea21",
   "metadata": {},
   "outputs": [
    {
     "data": {
      "text/plain": [
       "[StateSnapshot(values={'topic': 'pizza', 'joke': \"Why did the pizza quit its job?\\n\\nBecause it didn't get enough dough!\", 'explanation': 'This joke is a classic example of a **pun**, which relies on a word having two different meanings.\\n\\nHere\\'s the breakdown:\\n\\n1.  **\"Dough\" (Meaning 1 - Literal):** When you think of pizza, \"dough\" immediately brings to mind the soft, raw mixture of flour, water, and yeast that forms the base of the pizza. A pizza literally *is* made from dough.\\n\\n2.  **\"Dough\" (Meaning 2 - Slang):** In informal English, \"dough\" is a common slang term for **money**.\\n\\n3.  **The Punchline:**\\n    *   When someone quits a job, a very common reason is that they aren\\'t getting paid enough – they don\\'t get enough **money** (dough).\\n    *   The joke plays on this by applying the reason to a pizza, making it sound like the pizza is complaining about its salary, using the word \"dough\" in its slang sense.\\n\\nThe humor comes from the unexpected switch in meaning. You start by thinking of \"dough\" in the context of pizza (the ingredient), but then the punchline forces you to consider the other meaning (money) in the context of a job, creating a silly and clever wordplay. The absurdity of a pizza having a job and quitting it also adds to the comedic effect!'}, next=(), config={'configurable': {'thread_id': '1', 'checkpoint_ns': '', 'checkpoint_id': '1f094a57-2f0e-6437-8002-423c0e562ea6'}}, metadata={'source': 'loop', 'writes': {'generate_explanation': {'explanation': 'This joke is a classic example of a **pun**, which relies on a word having two different meanings.\\n\\nHere\\'s the breakdown:\\n\\n1.  **\"Dough\" (Meaning 1 - Literal):** When you think of pizza, \"dough\" immediately brings to mind the soft, raw mixture of flour, water, and yeast that forms the base of the pizza. A pizza literally *is* made from dough.\\n\\n2.  **\"Dough\" (Meaning 2 - Slang):** In informal English, \"dough\" is a common slang term for **money**.\\n\\n3.  **The Punchline:**\\n    *   When someone quits a job, a very common reason is that they aren\\'t getting paid enough – they don\\'t get enough **money** (dough).\\n    *   The joke plays on this by applying the reason to a pizza, making it sound like the pizza is complaining about its salary, using the word \"dough\" in its slang sense.\\n\\nThe humor comes from the unexpected switch in meaning. You start by thinking of \"dough\" in the context of pizza (the ingredient), but then the punchline forces you to consider the other meaning (money) in the context of a job, creating a silly and clever wordplay. The absurdity of a pizza having a job and quitting it also adds to the comedic effect!'}}, 'step': 2, 'parents': {}, 'thread_id': '1'}, created_at='2025-09-18T15:37:56.737975+00:00', parent_config={'configurable': {'thread_id': '1', 'checkpoint_ns': '', 'checkpoint_id': '1f094a56-4266-66c3-8001-b5e4b0c57e2b'}}, tasks=()),\n",
       " StateSnapshot(values={'topic': 'pizza', 'joke': \"Why did the pizza quit its job?\\n\\nBecause it didn't get enough dough!\"}, next=('generate_explanation',), config={'configurable': {'thread_id': '1', 'checkpoint_ns': '', 'checkpoint_id': '1f094a56-4266-66c3-8001-b5e4b0c57e2b'}}, metadata={'source': 'loop', 'writes': {'generate_joke': {'joke': \"Why did the pizza quit its job?\\n\\nBecause it didn't get enough dough!\"}}, 'step': 1, 'parents': {}, 'thread_id': '1'}, created_at='2025-09-18T15:37:31.923833+00:00', parent_config={'configurable': {'thread_id': '1', 'checkpoint_ns': '', 'checkpoint_id': '1f094a54-8844-6093-8000-b5ca31a22826'}}, tasks=(PregelTask(id='16cbb28c-6e23-ab50-7312-5517efe3a794', name='generate_explanation', path=('__pregel_pull', 'generate_explanation'), error=None, interrupts=(), state=None, result={'explanation': 'This joke is a classic example of a **pun**, which relies on a word having two different meanings.\\n\\nHere\\'s the breakdown:\\n\\n1.  **\"Dough\" (Meaning 1 - Literal):** When you think of pizza, \"dough\" immediately brings to mind the soft, raw mixture of flour, water, and yeast that forms the base of the pizza. A pizza literally *is* made from dough.\\n\\n2.  **\"Dough\" (Meaning 2 - Slang):** In informal English, \"dough\" is a common slang term for **money**.\\n\\n3.  **The Punchline:**\\n    *   When someone quits a job, a very common reason is that they aren\\'t getting paid enough – they don\\'t get enough **money** (dough).\\n    *   The joke plays on this by applying the reason to a pizza, making it sound like the pizza is complaining about its salary, using the word \"dough\" in its slang sense.\\n\\nThe humor comes from the unexpected switch in meaning. You start by thinking of \"dough\" in the context of pizza (the ingredient), but then the punchline forces you to consider the other meaning (money) in the context of a job, creating a silly and clever wordplay. The absurdity of a pizza having a job and quitting it also adds to the comedic effect!'}),)),\n",
       " StateSnapshot(values={'topic': 'pizza'}, next=('generate_joke',), config={'configurable': {'thread_id': '1', 'checkpoint_ns': '', 'checkpoint_id': '1f094a54-8844-6093-8000-b5ca31a22826'}}, metadata={'source': 'loop', 'writes': None, 'step': 0, 'parents': {}, 'thread_id': '1'}, created_at='2025-09-18T15:36:45.562689+00:00', parent_config={'configurable': {'thread_id': '1', 'checkpoint_ns': '', 'checkpoint_id': '1f094a54-87e8-6c96-bfff-335daa9ddc9c'}}, tasks=(PregelTask(id='1ef625bb-df15-7eaa-9357-0b5830053c9e', name='generate_joke', path=('__pregel_pull', 'generate_joke'), error=None, interrupts=(), state=None, result={'joke': \"Why did the pizza quit its job?\\n\\nBecause it didn't get enough dough!\"}),)),\n",
       " StateSnapshot(values={}, next=('__start__',), config={'configurable': {'thread_id': '1', 'checkpoint_ns': '', 'checkpoint_id': '1f094a54-87e8-6c96-bfff-335daa9ddc9c'}}, metadata={'source': 'input', 'writes': {'__start__': {'topic': 'pizza'}}, 'step': -1, 'parents': {}, 'thread_id': '1'}, created_at='2025-09-18T15:36:45.525314+00:00', parent_config=None, tasks=(PregelTask(id='35e1d842-7b13-6465-5c7b-cd22a0d9a4e2', name='__start__', path=('__pregel_pull', '__start__'), error=None, interrupts=(), state=None, result={'topic': 'pizza'}),))]"
      ]
     },
     "execution_count": 12,
     "metadata": {},
     "output_type": "execute_result"
    }
   ],
   "source": [
    "list(workflow.get_state_history(config1))"
   ]
  },
  {
   "cell_type": "markdown",
   "id": "5fccccee",
   "metadata": {},
   "source": [
    "### Time Travel"
   ]
  },
  {
   "cell_type": "code",
   "execution_count": 16,
   "id": "b5bfa235",
   "metadata": {},
   "outputs": [
    {
     "data": {
      "text/plain": [
       "StateSnapshot(values={'topic': 'pizza'}, next=('generate_joke',), config={'configurable': {'thread_id': '1', 'checkpoint_id': '1f094a54-8844-6093-8000-b5ca31a22826'}}, metadata={'source': 'loop', 'writes': None, 'step': 0, 'parents': {}, 'thread_id': '1'}, created_at='2025-09-18T15:36:45.562689+00:00', parent_config={'configurable': {'thread_id': '1', 'checkpoint_ns': '', 'checkpoint_id': '1f094a54-87e8-6c96-bfff-335daa9ddc9c'}}, tasks=(PregelTask(id='1ef625bb-df15-7eaa-9357-0b5830053c9e', name='generate_joke', path=('__pregel_pull', 'generate_joke'), error=None, interrupts=(), state=None, result={'joke': \"Why did the pizza quit its job?\\n\\nBecause it didn't get enough dough!\"}),))"
      ]
     },
     "execution_count": 16,
     "metadata": {},
     "output_type": "execute_result"
    }
   ],
   "source": [
    "workflow.get_state({\"configurable\": {\"thread_id\": \"1\", \"checkpoint_id\": \"1f094a54-8844-6093-8000-b5ca31a22826\"}})"
   ]
  },
  {
   "cell_type": "code",
   "execution_count": 17,
   "id": "1a7d2e73",
   "metadata": {},
   "outputs": [
    {
     "data": {
      "text/plain": [
       "{'topic': 'pizza',\n",
       " 'joke': 'Why did the pizza go to therapy?\\n\\nBecause it was feeling a little *dough*-wn!',\n",
       " 'explanation': 'This joke is a classic pun! Here\\'s how it works:\\n\\n1.  **The Setup:** A pizza going to therapy is funny because pizzas are inanimate objects. The joke personifies the pizza, giving it human emotions and problems that would lead someone to seek therapy.\\n\\n2.  **The Punchline (The Pun):** The humor comes from the phrase \"**dough**-wn.\"\\n    *   **\"Dough\":** This is a key ingredient in pizza (the base).\\n    *   **\"Down\":** When someone says they are \"feeling down,\" it means they are sad, unhappy, or depressed. Therapy is a common place people go when they are feeling down.\\n    *   **The Pun:** The joke combines \"dough\" and \"down\" to create \"**dough**-wn.\" This sounds almost exactly like \"down\" but cleverly incorporates a pizza-related word.\\n\\n**In essence:** The pizza is \"feeling down\" (sad), but because it\\'s a pizza, its \"down\" is spelled and pronounced with \"dough\" – its primary component.\\n\\n**Why it\\'s funny:** The humor comes from the unexpected wordplay. It takes a common phrase (\"feeling down\") and twists it with a food-related term (\"dough\") in a way that perfectly fits the subject (pizza) while still conveying the original meaning of sadness or needing emotional support.'}"
      ]
     },
     "execution_count": 17,
     "metadata": {},
     "output_type": "execute_result"
    }
   ],
   "source": [
    "workflow.invoke(None, {\"configurable\": {\"thread_id\": \"1\", \"checkpoint_id\": \"1f094a54-8844-6093-8000-b5ca31a22826\"}})"
   ]
  },
  {
   "cell_type": "code",
   "execution_count": 18,
   "id": "cd55cf35",
   "metadata": {},
   "outputs": [
    {
     "data": {
      "text/plain": [
       "[StateSnapshot(values={'topic': 'pizza', 'joke': 'Why did the pizza go to therapy?\\n\\nBecause it was feeling a little *dough*-wn!', 'explanation': 'This joke is a classic pun! Here\\'s how it works:\\n\\n1.  **The Setup:** A pizza going to therapy is funny because pizzas are inanimate objects. The joke personifies the pizza, giving it human emotions and problems that would lead someone to seek therapy.\\n\\n2.  **The Punchline (The Pun):** The humor comes from the phrase \"**dough**-wn.\"\\n    *   **\"Dough\":** This is a key ingredient in pizza (the base).\\n    *   **\"Down\":** When someone says they are \"feeling down,\" it means they are sad, unhappy, or depressed. Therapy is a common place people go when they are feeling down.\\n    *   **The Pun:** The joke combines \"dough\" and \"down\" to create \"**dough**-wn.\" This sounds almost exactly like \"down\" but cleverly incorporates a pizza-related word.\\n\\n**In essence:** The pizza is \"feeling down\" (sad), but because it\\'s a pizza, its \"down\" is spelled and pronounced with \"dough\" – its primary component.\\n\\n**Why it\\'s funny:** The humor comes from the unexpected wordplay. It takes a common phrase (\"feeling down\") and twists it with a food-related term (\"dough\") in a way that perfectly fits the subject (pizza) while still conveying the original meaning of sadness or needing emotional support.'}, next=(), config={'configurable': {'thread_id': '1', 'checkpoint_ns': '', 'checkpoint_id': '1f094a62-159c-697b-8002-17e9253e766d'}}, metadata={'source': 'loop', 'writes': {'generate_explanation': {'explanation': 'This joke is a classic pun! Here\\'s how it works:\\n\\n1.  **The Setup:** A pizza going to therapy is funny because pizzas are inanimate objects. The joke personifies the pizza, giving it human emotions and problems that would lead someone to seek therapy.\\n\\n2.  **The Punchline (The Pun):** The humor comes from the phrase \"**dough**-wn.\"\\n    *   **\"Dough\":** This is a key ingredient in pizza (the base).\\n    *   **\"Down\":** When someone says they are \"feeling down,\" it means they are sad, unhappy, or depressed. Therapy is a common place people go when they are feeling down.\\n    *   **The Pun:** The joke combines \"dough\" and \"down\" to create \"**dough**-wn.\" This sounds almost exactly like \"down\" but cleverly incorporates a pizza-related word.\\n\\n**In essence:** The pizza is \"feeling down\" (sad), but because it\\'s a pizza, its \"down\" is spelled and pronounced with \"dough\" – its primary component.\\n\\n**Why it\\'s funny:** The humor comes from the unexpected wordplay. It takes a common phrase (\"feeling down\") and twists it with a food-related term (\"dough\") in a way that perfectly fits the subject (pizza) while still conveying the original meaning of sadness or needing emotional support.'}}, 'step': 2, 'parents': {}, 'thread_id': '1'}, created_at='2025-09-18T15:42:49.349977+00:00', parent_config={'configurable': {'thread_id': '1', 'checkpoint_ns': '', 'checkpoint_id': '1f094a5f-c185-6567-8001-8ac90e0fb40b'}}, tasks=()),\n",
       " StateSnapshot(values={'topic': 'pizza', 'joke': 'Why did the pizza go to therapy?\\n\\nBecause it was feeling a little *dough*-wn!'}, next=('generate_explanation',), config={'configurable': {'thread_id': '1', 'checkpoint_ns': '', 'checkpoint_id': '1f094a5f-c185-6567-8001-8ac90e0fb40b'}}, metadata={'source': 'loop', 'writes': {'generate_joke': {'joke': 'Why did the pizza go to therapy?\\n\\nBecause it was feeling a little *dough*-wn!'}}, 'step': 1, 'parents': {}, 'thread_id': '1'}, created_at='2025-09-18T15:41:46.845322+00:00', parent_config={'configurable': {'thread_id': '1', 'checkpoint_ns': '', 'checkpoint_id': '1f094a54-8844-6093-8000-b5ca31a22826'}}, tasks=(PregelTask(id='9dca9b82-a0d5-d44f-fbd8-bd545ebc420e', name='generate_explanation', path=('__pregel_pull', 'generate_explanation'), error=None, interrupts=(), state=None, result={'explanation': 'This joke is a classic pun! Here\\'s how it works:\\n\\n1.  **The Setup:** A pizza going to therapy is funny because pizzas are inanimate objects. The joke personifies the pizza, giving it human emotions and problems that would lead someone to seek therapy.\\n\\n2.  **The Punchline (The Pun):** The humor comes from the phrase \"**dough**-wn.\"\\n    *   **\"Dough\":** This is a key ingredient in pizza (the base).\\n    *   **\"Down\":** When someone says they are \"feeling down,\" it means they are sad, unhappy, or depressed. Therapy is a common place people go when they are feeling down.\\n    *   **The Pun:** The joke combines \"dough\" and \"down\" to create \"**dough**-wn.\" This sounds almost exactly like \"down\" but cleverly incorporates a pizza-related word.\\n\\n**In essence:** The pizza is \"feeling down\" (sad), but because it\\'s a pizza, its \"down\" is spelled and pronounced with \"dough\" – its primary component.\\n\\n**Why it\\'s funny:** The humor comes from the unexpected wordplay. It takes a common phrase (\"feeling down\") and twists it with a food-related term (\"dough\") in a way that perfectly fits the subject (pizza) while still conveying the original meaning of sadness or needing emotional support.'}),)),\n",
       " StateSnapshot(values={'topic': 'pizza', 'joke': \"Why did the pizza quit its job?\\n\\nBecause it didn't get enough dough!\", 'explanation': 'This joke is a classic example of a **pun**, which relies on a word having two different meanings.\\n\\nHere\\'s the breakdown:\\n\\n1.  **\"Dough\" (Meaning 1 - Literal):** When you think of pizza, \"dough\" immediately brings to mind the soft, raw mixture of flour, water, and yeast that forms the base of the pizza. A pizza literally *is* made from dough.\\n\\n2.  **\"Dough\" (Meaning 2 - Slang):** In informal English, \"dough\" is a common slang term for **money**.\\n\\n3.  **The Punchline:**\\n    *   When someone quits a job, a very common reason is that they aren\\'t getting paid enough – they don\\'t get enough **money** (dough).\\n    *   The joke plays on this by applying the reason to a pizza, making it sound like the pizza is complaining about its salary, using the word \"dough\" in its slang sense.\\n\\nThe humor comes from the unexpected switch in meaning. You start by thinking of \"dough\" in the context of pizza (the ingredient), but then the punchline forces you to consider the other meaning (money) in the context of a job, creating a silly and clever wordplay. The absurdity of a pizza having a job and quitting it also adds to the comedic effect!'}, next=(), config={'configurable': {'thread_id': '1', 'checkpoint_ns': '', 'checkpoint_id': '1f094a57-2f0e-6437-8002-423c0e562ea6'}}, metadata={'source': 'loop', 'writes': {'generate_explanation': {'explanation': 'This joke is a classic example of a **pun**, which relies on a word having two different meanings.\\n\\nHere\\'s the breakdown:\\n\\n1.  **\"Dough\" (Meaning 1 - Literal):** When you think of pizza, \"dough\" immediately brings to mind the soft, raw mixture of flour, water, and yeast that forms the base of the pizza. A pizza literally *is* made from dough.\\n\\n2.  **\"Dough\" (Meaning 2 - Slang):** In informal English, \"dough\" is a common slang term for **money**.\\n\\n3.  **The Punchline:**\\n    *   When someone quits a job, a very common reason is that they aren\\'t getting paid enough – they don\\'t get enough **money** (dough).\\n    *   The joke plays on this by applying the reason to a pizza, making it sound like the pizza is complaining about its salary, using the word \"dough\" in its slang sense.\\n\\nThe humor comes from the unexpected switch in meaning. You start by thinking of \"dough\" in the context of pizza (the ingredient), but then the punchline forces you to consider the other meaning (money) in the context of a job, creating a silly and clever wordplay. The absurdity of a pizza having a job and quitting it also adds to the comedic effect!'}}, 'step': 2, 'parents': {}, 'thread_id': '1'}, created_at='2025-09-18T15:37:56.737975+00:00', parent_config={'configurable': {'thread_id': '1', 'checkpoint_ns': '', 'checkpoint_id': '1f094a56-4266-66c3-8001-b5e4b0c57e2b'}}, tasks=()),\n",
       " StateSnapshot(values={'topic': 'pizza', 'joke': \"Why did the pizza quit its job?\\n\\nBecause it didn't get enough dough!\"}, next=('generate_explanation',), config={'configurable': {'thread_id': '1', 'checkpoint_ns': '', 'checkpoint_id': '1f094a56-4266-66c3-8001-b5e4b0c57e2b'}}, metadata={'source': 'loop', 'writes': {'generate_joke': {'joke': \"Why did the pizza quit its job?\\n\\nBecause it didn't get enough dough!\"}}, 'step': 1, 'parents': {}, 'thread_id': '1'}, created_at='2025-09-18T15:37:31.923833+00:00', parent_config={'configurable': {'thread_id': '1', 'checkpoint_ns': '', 'checkpoint_id': '1f094a54-8844-6093-8000-b5ca31a22826'}}, tasks=(PregelTask(id='16cbb28c-6e23-ab50-7312-5517efe3a794', name='generate_explanation', path=('__pregel_pull', 'generate_explanation'), error=None, interrupts=(), state=None, result={'explanation': 'This joke is a classic example of a **pun**, which relies on a word having two different meanings.\\n\\nHere\\'s the breakdown:\\n\\n1.  **\"Dough\" (Meaning 1 - Literal):** When you think of pizza, \"dough\" immediately brings to mind the soft, raw mixture of flour, water, and yeast that forms the base of the pizza. A pizza literally *is* made from dough.\\n\\n2.  **\"Dough\" (Meaning 2 - Slang):** In informal English, \"dough\" is a common slang term for **money**.\\n\\n3.  **The Punchline:**\\n    *   When someone quits a job, a very common reason is that they aren\\'t getting paid enough – they don\\'t get enough **money** (dough).\\n    *   The joke plays on this by applying the reason to a pizza, making it sound like the pizza is complaining about its salary, using the word \"dough\" in its slang sense.\\n\\nThe humor comes from the unexpected switch in meaning. You start by thinking of \"dough\" in the context of pizza (the ingredient), but then the punchline forces you to consider the other meaning (money) in the context of a job, creating a silly and clever wordplay. The absurdity of a pizza having a job and quitting it also adds to the comedic effect!'}),)),\n",
       " StateSnapshot(values={'topic': 'pizza'}, next=('generate_joke',), config={'configurable': {'thread_id': '1', 'checkpoint_ns': '', 'checkpoint_id': '1f094a54-8844-6093-8000-b5ca31a22826'}}, metadata={'source': 'loop', 'writes': None, 'step': 0, 'parents': {}, 'thread_id': '1'}, created_at='2025-09-18T15:36:45.562689+00:00', parent_config={'configurable': {'thread_id': '1', 'checkpoint_ns': '', 'checkpoint_id': '1f094a54-87e8-6c96-bfff-335daa9ddc9c'}}, tasks=(PregelTask(id='1ef625bb-df15-7eaa-9357-0b5830053c9e', name='generate_joke', path=('__pregel_pull', 'generate_joke'), error=None, interrupts=(), state=None, result={'joke': \"Why did the pizza quit its job?\\n\\nBecause it didn't get enough dough!\"}),)),\n",
       " StateSnapshot(values={}, next=('__start__',), config={'configurable': {'thread_id': '1', 'checkpoint_ns': '', 'checkpoint_id': '1f094a54-87e8-6c96-bfff-335daa9ddc9c'}}, metadata={'source': 'input', 'writes': {'__start__': {'topic': 'pizza'}}, 'step': -1, 'parents': {}, 'thread_id': '1'}, created_at='2025-09-18T15:36:45.525314+00:00', parent_config=None, tasks=(PregelTask(id='35e1d842-7b13-6465-5c7b-cd22a0d9a4e2', name='__start__', path=('__pregel_pull', '__start__'), error=None, interrupts=(), state=None, result={'topic': 'pizza'}),))]"
      ]
     },
     "execution_count": 18,
     "metadata": {},
     "output_type": "execute_result"
    }
   ],
   "source": [
    "list(workflow.get_state_history(config1))"
   ]
  },
  {
   "cell_type": "markdown",
   "id": "ab1b895e",
   "metadata": {},
   "source": [
    "#### Updating State"
   ]
  },
  {
   "cell_type": "code",
   "execution_count": 22,
   "id": "19378d86",
   "metadata": {},
   "outputs": [
    {
     "data": {
      "text/plain": [
       "{'configurable': {'thread_id': '1',\n",
       "  'checkpoint_ns': '',\n",
       "  'checkpoint_id': '1f094a6b-ba05-659f-8001-b792e831b62a'}}"
      ]
     },
     "execution_count": 22,
     "metadata": {},
     "output_type": "execute_result"
    }
   ],
   "source": [
    "workflow.update_state({\"configurable\": {\"thread_id\": \"1\", \"checkpoint_id\": \"1f094a54-8844-6093-8000-b5ca31a22826\", \"checkpoint_ns\": \"\"}}, {'topic':'samosa'})"
   ]
  },
  {
   "cell_type": "code",
   "execution_count": 23,
   "id": "7c486bff",
   "metadata": {},
   "outputs": [
    {
     "data": {
      "text/plain": [
       "[StateSnapshot(values={'topic': 'samosa'}, next=('generate_joke',), config={'configurable': {'thread_id': '1', 'checkpoint_ns': '', 'checkpoint_id': '1f094a6b-ba05-659f-8001-b792e831b62a'}}, metadata={'source': 'update', 'writes': {'__start__': {'topic': 'samosa'}}, 'step': 1, 'parents': {}, 'thread_id': '1', 'checkpoint_id': '1f094a54-8844-6093-8000-b5ca31a22826', 'checkpoint_ns': ''}, created_at='2025-09-18T15:47:08.181443+00:00', parent_config={'configurable': {'thread_id': '1', 'checkpoint_ns': '', 'checkpoint_id': '1f094a54-8844-6093-8000-b5ca31a22826'}}, tasks=(PregelTask(id='009f0d28-bc7b-2f09-bc2e-9dda0fbec375', name='generate_joke', path=('__pregel_pull', 'generate_joke'), error=None, interrupts=(), state=None, result=None),)),\n",
       " StateSnapshot(values={'topic': 'samosa', 'joke': \"Why did the pizza quit its job?\\n\\nBecause it didn't get enough dough!\", 'explanation': 'This is a classic pun! The humor comes from the word \"dough\" having two very different meanings that both fit the context in a silly way:\\n\\n1.  **\"Dough\" as Money:** In informal language, \"dough\" is a slang term for money. When people quit a job, a very common reason is that they aren\\'t getting paid enough, or they want \"more dough.\"\\n2.  **\"Dough\" as a Pizza Ingredient:** Literally, a pizza is made from dough (the mixture of flour, water, yeast, etc., that forms its base).\\n\\nThe joke anthropomorphizes the pizza (gives it human qualities, like having a job and being able to quit). The punchline plays on the double meaning:\\n\\n*   On one level, it suggests the pizza, acting like a person, wasn\\'t getting paid enough money (\"dough\").\\n*   On another, more literal and absurd level, it implies the pizza itself didn\\'t have enough of its own fundamental ingredient (\"dough\") to be a proper pizza, which is funny because a pizza *is* dough!\\n\\nThe unexpected twist from the human reason for quitting (money) to the literal component of the pizza (its base ingredient) is what makes the pun work and gets a chuckle.'}, next=(), config={'configurable': {'thread_id': '1', 'checkpoint_ns': '', 'checkpoint_id': '1f094a67-a929-60af-8003-271512424598'}}, metadata={'source': 'loop', 'writes': {'generate_explanation': {'explanation': 'This is a classic pun! The humor comes from the word \"dough\" having two very different meanings that both fit the context in a silly way:\\n\\n1.  **\"Dough\" as Money:** In informal language, \"dough\" is a slang term for money. When people quit a job, a very common reason is that they aren\\'t getting paid enough, or they want \"more dough.\"\\n2.  **\"Dough\" as a Pizza Ingredient:** Literally, a pizza is made from dough (the mixture of flour, water, yeast, etc., that forms its base).\\n\\nThe joke anthropomorphizes the pizza (gives it human qualities, like having a job and being able to quit). The punchline plays on the double meaning:\\n\\n*   On one level, it suggests the pizza, acting like a person, wasn\\'t getting paid enough money (\"dough\").\\n*   On another, more literal and absurd level, it implies the pizza itself didn\\'t have enough of its own fundamental ingredient (\"dough\") to be a proper pizza, which is funny because a pizza *is* dough!\\n\\nThe unexpected twist from the human reason for quitting (money) to the literal component of the pizza (its base ingredient) is what makes the pun work and gets a chuckle.'}}, 'step': 3, 'parents': {}, 'thread_id': '1'}, created_at='2025-09-18T15:45:19.039300+00:00', parent_config={'configurable': {'thread_id': '1', 'checkpoint_ns': '', 'checkpoint_id': '1f094a64-72bd-62e9-8002-7d7490d71c37'}}, tasks=()),\n",
       " StateSnapshot(values={'topic': 'samosa', 'joke': \"Why did the pizza quit its job?\\n\\nBecause it didn't get enough dough!\"}, next=('generate_explanation',), config={'configurable': {'thread_id': '1', 'checkpoint_ns': '', 'checkpoint_id': '1f094a64-72bd-62e9-8002-7d7490d71c37'}}, metadata={'source': 'update', 'writes': {'generate_joke': {'topic': 'samosa'}}, 'step': 2, 'parents': {}, 'thread_id': '1', 'checkpoint_id': '1f094a56-4266-66c3-8001-b5e4b0c57e2b', 'checkpoint_ns': ''}, created_at='2025-09-18T15:43:52.802173+00:00', parent_config={'configurable': {'thread_id': '1', 'checkpoint_ns': '', 'checkpoint_id': '1f094a56-4266-66c3-8001-b5e4b0c57e2b'}}, tasks=(PregelTask(id='8e9dbe69-35ba-ee40-361f-0c57020a8de8', name='generate_explanation', path=('__pregel_pull', 'generate_explanation'), error=None, interrupts=(), state=None, result={'explanation': 'This is a classic pun! The humor comes from the word \"dough\" having two very different meanings that both fit the context in a silly way:\\n\\n1.  **\"Dough\" as Money:** In informal language, \"dough\" is a slang term for money. When people quit a job, a very common reason is that they aren\\'t getting paid enough, or they want \"more dough.\"\\n2.  **\"Dough\" as a Pizza Ingredient:** Literally, a pizza is made from dough (the mixture of flour, water, yeast, etc., that forms its base).\\n\\nThe joke anthropomorphizes the pizza (gives it human qualities, like having a job and being able to quit). The punchline plays on the double meaning:\\n\\n*   On one level, it suggests the pizza, acting like a person, wasn\\'t getting paid enough money (\"dough\").\\n*   On another, more literal and absurd level, it implies the pizza itself didn\\'t have enough of its own fundamental ingredient (\"dough\") to be a proper pizza, which is funny because a pizza *is* dough!\\n\\nThe unexpected twist from the human reason for quitting (money) to the literal component of the pizza (its base ingredient) is what makes the pun work and gets a chuckle.'}),)),\n",
       " StateSnapshot(values={'topic': 'pizza', 'joke': 'Why did the pizza go to therapy?\\n\\nBecause it was feeling a little *dough*-wn!', 'explanation': 'This joke is a classic pun! Here\\'s how it works:\\n\\n1.  **The Setup:** A pizza going to therapy is funny because pizzas are inanimate objects. The joke personifies the pizza, giving it human emotions and problems that would lead someone to seek therapy.\\n\\n2.  **The Punchline (The Pun):** The humor comes from the phrase \"**dough**-wn.\"\\n    *   **\"Dough\":** This is a key ingredient in pizza (the base).\\n    *   **\"Down\":** When someone says they are \"feeling down,\" it means they are sad, unhappy, or depressed. Therapy is a common place people go when they are feeling down.\\n    *   **The Pun:** The joke combines \"dough\" and \"down\" to create \"**dough**-wn.\" This sounds almost exactly like \"down\" but cleverly incorporates a pizza-related word.\\n\\n**In essence:** The pizza is \"feeling down\" (sad), but because it\\'s a pizza, its \"down\" is spelled and pronounced with \"dough\" – its primary component.\\n\\n**Why it\\'s funny:** The humor comes from the unexpected wordplay. It takes a common phrase (\"feeling down\") and twists it with a food-related term (\"dough\") in a way that perfectly fits the subject (pizza) while still conveying the original meaning of sadness or needing emotional support.'}, next=(), config={'configurable': {'thread_id': '1', 'checkpoint_ns': '', 'checkpoint_id': '1f094a62-159c-697b-8002-17e9253e766d'}}, metadata={'source': 'loop', 'writes': {'generate_explanation': {'explanation': 'This joke is a classic pun! Here\\'s how it works:\\n\\n1.  **The Setup:** A pizza going to therapy is funny because pizzas are inanimate objects. The joke personifies the pizza, giving it human emotions and problems that would lead someone to seek therapy.\\n\\n2.  **The Punchline (The Pun):** The humor comes from the phrase \"**dough**-wn.\"\\n    *   **\"Dough\":** This is a key ingredient in pizza (the base).\\n    *   **\"Down\":** When someone says they are \"feeling down,\" it means they are sad, unhappy, or depressed. Therapy is a common place people go when they are feeling down.\\n    *   **The Pun:** The joke combines \"dough\" and \"down\" to create \"**dough**-wn.\" This sounds almost exactly like \"down\" but cleverly incorporates a pizza-related word.\\n\\n**In essence:** The pizza is \"feeling down\" (sad), but because it\\'s a pizza, its \"down\" is spelled and pronounced with \"dough\" – its primary component.\\n\\n**Why it\\'s funny:** The humor comes from the unexpected wordplay. It takes a common phrase (\"feeling down\") and twists it with a food-related term (\"dough\") in a way that perfectly fits the subject (pizza) while still conveying the original meaning of sadness or needing emotional support.'}}, 'step': 2, 'parents': {}, 'thread_id': '1'}, created_at='2025-09-18T15:42:49.349977+00:00', parent_config={'configurable': {'thread_id': '1', 'checkpoint_ns': '', 'checkpoint_id': '1f094a5f-c185-6567-8001-8ac90e0fb40b'}}, tasks=()),\n",
       " StateSnapshot(values={'topic': 'pizza', 'joke': 'Why did the pizza go to therapy?\\n\\nBecause it was feeling a little *dough*-wn!'}, next=('generate_explanation',), config={'configurable': {'thread_id': '1', 'checkpoint_ns': '', 'checkpoint_id': '1f094a5f-c185-6567-8001-8ac90e0fb40b'}}, metadata={'source': 'loop', 'writes': {'generate_joke': {'joke': 'Why did the pizza go to therapy?\\n\\nBecause it was feeling a little *dough*-wn!'}}, 'step': 1, 'parents': {}, 'thread_id': '1'}, created_at='2025-09-18T15:41:46.845322+00:00', parent_config={'configurable': {'thread_id': '1', 'checkpoint_ns': '', 'checkpoint_id': '1f094a54-8844-6093-8000-b5ca31a22826'}}, tasks=(PregelTask(id='9dca9b82-a0d5-d44f-fbd8-bd545ebc420e', name='generate_explanation', path=('__pregel_pull', 'generate_explanation'), error=None, interrupts=(), state=None, result={'explanation': 'This joke is a classic pun! Here\\'s how it works:\\n\\n1.  **The Setup:** A pizza going to therapy is funny because pizzas are inanimate objects. The joke personifies the pizza, giving it human emotions and problems that would lead someone to seek therapy.\\n\\n2.  **The Punchline (The Pun):** The humor comes from the phrase \"**dough**-wn.\"\\n    *   **\"Dough\":** This is a key ingredient in pizza (the base).\\n    *   **\"Down\":** When someone says they are \"feeling down,\" it means they are sad, unhappy, or depressed. Therapy is a common place people go when they are feeling down.\\n    *   **The Pun:** The joke combines \"dough\" and \"down\" to create \"**dough**-wn.\" This sounds almost exactly like \"down\" but cleverly incorporates a pizza-related word.\\n\\n**In essence:** The pizza is \"feeling down\" (sad), but because it\\'s a pizza, its \"down\" is spelled and pronounced with \"dough\" – its primary component.\\n\\n**Why it\\'s funny:** The humor comes from the unexpected wordplay. It takes a common phrase (\"feeling down\") and twists it with a food-related term (\"dough\") in a way that perfectly fits the subject (pizza) while still conveying the original meaning of sadness or needing emotional support.'}),)),\n",
       " StateSnapshot(values={'topic': 'pizza', 'joke': \"Why did the pizza quit its job?\\n\\nBecause it didn't get enough dough!\", 'explanation': 'This joke is a classic example of a **pun**, which relies on a word having two different meanings.\\n\\nHere\\'s the breakdown:\\n\\n1.  **\"Dough\" (Meaning 1 - Literal):** When you think of pizza, \"dough\" immediately brings to mind the soft, raw mixture of flour, water, and yeast that forms the base of the pizza. A pizza literally *is* made from dough.\\n\\n2.  **\"Dough\" (Meaning 2 - Slang):** In informal English, \"dough\" is a common slang term for **money**.\\n\\n3.  **The Punchline:**\\n    *   When someone quits a job, a very common reason is that they aren\\'t getting paid enough – they don\\'t get enough **money** (dough).\\n    *   The joke plays on this by applying the reason to a pizza, making it sound like the pizza is complaining about its salary, using the word \"dough\" in its slang sense.\\n\\nThe humor comes from the unexpected switch in meaning. You start by thinking of \"dough\" in the context of pizza (the ingredient), but then the punchline forces you to consider the other meaning (money) in the context of a job, creating a silly and clever wordplay. The absurdity of a pizza having a job and quitting it also adds to the comedic effect!'}, next=(), config={'configurable': {'thread_id': '1', 'checkpoint_ns': '', 'checkpoint_id': '1f094a57-2f0e-6437-8002-423c0e562ea6'}}, metadata={'source': 'loop', 'writes': {'generate_explanation': {'explanation': 'This joke is a classic example of a **pun**, which relies on a word having two different meanings.\\n\\nHere\\'s the breakdown:\\n\\n1.  **\"Dough\" (Meaning 1 - Literal):** When you think of pizza, \"dough\" immediately brings to mind the soft, raw mixture of flour, water, and yeast that forms the base of the pizza. A pizza literally *is* made from dough.\\n\\n2.  **\"Dough\" (Meaning 2 - Slang):** In informal English, \"dough\" is a common slang term for **money**.\\n\\n3.  **The Punchline:**\\n    *   When someone quits a job, a very common reason is that they aren\\'t getting paid enough – they don\\'t get enough **money** (dough).\\n    *   The joke plays on this by applying the reason to a pizza, making it sound like the pizza is complaining about its salary, using the word \"dough\" in its slang sense.\\n\\nThe humor comes from the unexpected switch in meaning. You start by thinking of \"dough\" in the context of pizza (the ingredient), but then the punchline forces you to consider the other meaning (money) in the context of a job, creating a silly and clever wordplay. The absurdity of a pizza having a job and quitting it also adds to the comedic effect!'}}, 'step': 2, 'parents': {}, 'thread_id': '1'}, created_at='2025-09-18T15:37:56.737975+00:00', parent_config={'configurable': {'thread_id': '1', 'checkpoint_ns': '', 'checkpoint_id': '1f094a56-4266-66c3-8001-b5e4b0c57e2b'}}, tasks=()),\n",
       " StateSnapshot(values={'topic': 'pizza', 'joke': \"Why did the pizza quit its job?\\n\\nBecause it didn't get enough dough!\"}, next=('generate_explanation',), config={'configurable': {'thread_id': '1', 'checkpoint_ns': '', 'checkpoint_id': '1f094a56-4266-66c3-8001-b5e4b0c57e2b'}}, metadata={'source': 'loop', 'writes': {'generate_joke': {'joke': \"Why did the pizza quit its job?\\n\\nBecause it didn't get enough dough!\"}}, 'step': 1, 'parents': {}, 'thread_id': '1'}, created_at='2025-09-18T15:37:31.923833+00:00', parent_config={'configurable': {'thread_id': '1', 'checkpoint_ns': '', 'checkpoint_id': '1f094a54-8844-6093-8000-b5ca31a22826'}}, tasks=(PregelTask(id='16cbb28c-6e23-ab50-7312-5517efe3a794', name='generate_explanation', path=('__pregel_pull', 'generate_explanation'), error=None, interrupts=(), state=None, result={'explanation': 'This joke is a classic example of a **pun**, which relies on a word having two different meanings.\\n\\nHere\\'s the breakdown:\\n\\n1.  **\"Dough\" (Meaning 1 - Literal):** When you think of pizza, \"dough\" immediately brings to mind the soft, raw mixture of flour, water, and yeast that forms the base of the pizza. A pizza literally *is* made from dough.\\n\\n2.  **\"Dough\" (Meaning 2 - Slang):** In informal English, \"dough\" is a common slang term for **money**.\\n\\n3.  **The Punchline:**\\n    *   When someone quits a job, a very common reason is that they aren\\'t getting paid enough – they don\\'t get enough **money** (dough).\\n    *   The joke plays on this by applying the reason to a pizza, making it sound like the pizza is complaining about its salary, using the word \"dough\" in its slang sense.\\n\\nThe humor comes from the unexpected switch in meaning. You start by thinking of \"dough\" in the context of pizza (the ingredient), but then the punchline forces you to consider the other meaning (money) in the context of a job, creating a silly and clever wordplay. The absurdity of a pizza having a job and quitting it also adds to the comedic effect!'}),)),\n",
       " StateSnapshot(values={'topic': 'pizza'}, next=('generate_joke',), config={'configurable': {'thread_id': '1', 'checkpoint_ns': '', 'checkpoint_id': '1f094a54-8844-6093-8000-b5ca31a22826'}}, metadata={'source': 'loop', 'writes': None, 'step': 0, 'parents': {}, 'thread_id': '1'}, created_at='2025-09-18T15:36:45.562689+00:00', parent_config={'configurable': {'thread_id': '1', 'checkpoint_ns': '', 'checkpoint_id': '1f094a54-87e8-6c96-bfff-335daa9ddc9c'}}, tasks=(PregelTask(id='1ef625bb-df15-7eaa-9357-0b5830053c9e', name='generate_joke', path=('__pregel_pull', 'generate_joke'), error=None, interrupts=(), state=None, result={'joke': \"Why did the pizza quit its job?\\n\\nBecause it didn't get enough dough!\"}),)),\n",
       " StateSnapshot(values={}, next=('__start__',), config={'configurable': {'thread_id': '1', 'checkpoint_ns': '', 'checkpoint_id': '1f094a54-87e8-6c96-bfff-335daa9ddc9c'}}, metadata={'source': 'input', 'writes': {'__start__': {'topic': 'pizza'}}, 'step': -1, 'parents': {}, 'thread_id': '1'}, created_at='2025-09-18T15:36:45.525314+00:00', parent_config=None, tasks=(PregelTask(id='35e1d842-7b13-6465-5c7b-cd22a0d9a4e2', name='__start__', path=('__pregel_pull', '__start__'), error=None, interrupts=(), state=None, result={'topic': 'pizza'}),))]"
      ]
     },
     "execution_count": 23,
     "metadata": {},
     "output_type": "execute_result"
    }
   ],
   "source": [
    "list(workflow.get_state_history(config1))"
   ]
  },
  {
   "cell_type": "code",
   "execution_count": 26,
   "id": "58f63a80",
   "metadata": {},
   "outputs": [
    {
     "data": {
      "text/plain": [
       "{'topic': 'samosa',\n",
       " 'joke': 'Why did the samosa go to therapy?\\n\\nBecause it had too many *issues* and felt a little *fried*!',\n",
       " 'explanation': 'This joke is a classic example of **wordplay** and **personification**. Here\\'s a breakdown:\\n\\n1.  **Personification:** The first layer of humor comes from imagining a samosa, an inanimate food item, experiencing human emotions and needing therapy. This silly image is inherently funny.\\n\\n2.  **\"Issues\":**\\n    *   **Human context:** When a person goes to therapy, they often have \"issues\" – problems, worries, or emotional challenges they need to work through.\\n    *   **Samosa context:** A samosa literally has \"issues\" – its **fillings**! The spiced potato, peas, and other ingredients are packed *inside* it. The joke plays on the double meaning of \"issues\" as both problems and contents.\\n\\n3.  **\"Fried\":**\\n    *   **Human context:** When a person says they feel \"fried,\" it means they are exhausted, stressed, burnt out, or overwhelmed.\\n    *   **Samosa context:** A samosa is literally **fried** as part of its cooking process, giving it its crispy exterior. The joke uses \"fried\" to describe both a state of mental exhaustion and a cooking method.\\n\\nThe humor stems from this clever combination: giving human characteristics (needing therapy, having problems) to an inanimate object, and then using puns that perfectly describe both the human emotional state and the literal characteristics of the samosa.'}"
      ]
     },
     "execution_count": 26,
     "metadata": {},
     "output_type": "execute_result"
    }
   ],
   "source": [
    "workflow.invoke(None, {\"configurable\": {\"thread_id\": \"1\", \"checkpoint_id\": \"1f094a6b-ba05-659f-8001-b792e831b62a\"}})"
   ]
  },
  {
   "cell_type": "code",
   "execution_count": 27,
   "id": "db645da9",
   "metadata": {},
   "outputs": [
    {
     "data": {
      "text/plain": [
       "[StateSnapshot(values={'topic': 'samosa', 'joke': 'Why did the samosa go to therapy?\\n\\nBecause it had too many *issues* and felt a little *fried*!', 'explanation': 'This joke is a classic example of **wordplay** and **personification**. Here\\'s a breakdown:\\n\\n1.  **Personification:** The first layer of humor comes from imagining a samosa, an inanimate food item, experiencing human emotions and needing therapy. This silly image is inherently funny.\\n\\n2.  **\"Issues\":**\\n    *   **Human context:** When a person goes to therapy, they often have \"issues\" – problems, worries, or emotional challenges they need to work through.\\n    *   **Samosa context:** A samosa literally has \"issues\" – its **fillings**! The spiced potato, peas, and other ingredients are packed *inside* it. The joke plays on the double meaning of \"issues\" as both problems and contents.\\n\\n3.  **\"Fried\":**\\n    *   **Human context:** When a person says they feel \"fried,\" it means they are exhausted, stressed, burnt out, or overwhelmed.\\n    *   **Samosa context:** A samosa is literally **fried** as part of its cooking process, giving it its crispy exterior. The joke uses \"fried\" to describe both a state of mental exhaustion and a cooking method.\\n\\nThe humor stems from this clever combination: giving human characteristics (needing therapy, having problems) to an inanimate object, and then using puns that perfectly describe both the human emotional state and the literal characteristics of the samosa.'}, next=(), config={'configurable': {'thread_id': '1', 'checkpoint_ns': '', 'checkpoint_id': '1f094a71-263d-60e5-8003-ef6b485a915f'}}, metadata={'source': 'loop', 'writes': {'generate_explanation': {'explanation': 'This joke is a classic example of **wordplay** and **personification**. Here\\'s a breakdown:\\n\\n1.  **Personification:** The first layer of humor comes from imagining a samosa, an inanimate food item, experiencing human emotions and needing therapy. This silly image is inherently funny.\\n\\n2.  **\"Issues\":**\\n    *   **Human context:** When a person goes to therapy, they often have \"issues\" – problems, worries, or emotional challenges they need to work through.\\n    *   **Samosa context:** A samosa literally has \"issues\" – its **fillings**! The spiced potato, peas, and other ingredients are packed *inside* it. The joke plays on the double meaning of \"issues\" as both problems and contents.\\n\\n3.  **\"Fried\":**\\n    *   **Human context:** When a person says they feel \"fried,\" it means they are exhausted, stressed, burnt out, or overwhelmed.\\n    *   **Samosa context:** A samosa is literally **fried** as part of its cooking process, giving it its crispy exterior. The joke uses \"fried\" to describe both a state of mental exhaustion and a cooking method.\\n\\nThe humor stems from this clever combination: giving human characteristics (needing therapy, having problems) to an inanimate object, and then using puns that perfectly describe both the human emotional state and the literal characteristics of the samosa.'}}, 'step': 3, 'parents': {}, 'thread_id': '1'}, created_at='2025-09-18T15:49:33.746608+00:00', parent_config={'configurable': {'thread_id': '1', 'checkpoint_ns': '', 'checkpoint_id': '1f094a70-7e0a-66bd-8002-d48f1c6e914b'}}, tasks=()),\n",
       " StateSnapshot(values={'topic': 'samosa', 'joke': 'Why did the samosa go to therapy?\\n\\nBecause it had too many *issues* and felt a little *fried*!'}, next=('generate_explanation',), config={'configurable': {'thread_id': '1', 'checkpoint_ns': '', 'checkpoint_id': '1f094a70-7e0a-66bd-8002-d48f1c6e914b'}}, metadata={'source': 'loop', 'writes': {'generate_joke': {'joke': 'Why did the samosa go to therapy?\\n\\nBecause it had too many *issues* and felt a little *fried*!'}}, 'step': 2, 'parents': {}, 'thread_id': '1'}, created_at='2025-09-18T15:49:16.109791+00:00', parent_config={'configurable': {'thread_id': '1', 'checkpoint_ns': '', 'checkpoint_id': '1f094a6b-ba05-659f-8001-b792e831b62a'}}, tasks=(PregelTask(id='f98c7884-016c-fdb0-84aa-0b7331dc2334', name='generate_explanation', path=('__pregel_pull', 'generate_explanation'), error=None, interrupts=(), state=None, result={'explanation': 'This joke is a classic example of **wordplay** and **personification**. Here\\'s a breakdown:\\n\\n1.  **Personification:** The first layer of humor comes from imagining a samosa, an inanimate food item, experiencing human emotions and needing therapy. This silly image is inherently funny.\\n\\n2.  **\"Issues\":**\\n    *   **Human context:** When a person goes to therapy, they often have \"issues\" – problems, worries, or emotional challenges they need to work through.\\n    *   **Samosa context:** A samosa literally has \"issues\" – its **fillings**! The spiced potato, peas, and other ingredients are packed *inside* it. The joke plays on the double meaning of \"issues\" as both problems and contents.\\n\\n3.  **\"Fried\":**\\n    *   **Human context:** When a person says they feel \"fried,\" it means they are exhausted, stressed, burnt out, or overwhelmed.\\n    *   **Samosa context:** A samosa is literally **fried** as part of its cooking process, giving it its crispy exterior. The joke uses \"fried\" to describe both a state of mental exhaustion and a cooking method.\\n\\nThe humor stems from this clever combination: giving human characteristics (needing therapy, having problems) to an inanimate object, and then using puns that perfectly describe both the human emotional state and the literal characteristics of the samosa.'}),)),\n",
       " StateSnapshot(values={'topic': 'samosa', 'joke': \"Why did the pizza quit its job?\\n\\nBecause it didn't get enough dough!\", 'explanation': 'This joke is a pun, which is a form of wordplay that exploits multiple meanings of a word or of similar-sounding words for an intended humorous or rhetorical effect.\\n\\nHere\\'s the breakdown:\\n\\n1.  **\"Dough\" (Meaning 1 - Pizza Context):** In the literal world of pizza, \"dough\" is the essential, primary ingredient – the base of the crust. Without enough dough, you can\\'t make a pizza, or it would be a very small, sad pizza.\\n\\n2.  **\"Dough\" (Meaning 2 - Job/Money Context):** \"Dough\" is also a very common slang term for **money**. When someone quits a job because they \"didn\\'t get enough dough,\" it means they weren\\'t paid enough.\\n\\nThe joke works by setting up a scenario about quitting a job (which immediately makes you think of money/pay) but applying it to a pizza. The punchline cleverly uses the word \"dough,\" which has a perfectly logical meaning in both the pizza\\'s literal composition and the human reason for quitting a job.\\n\\nSo, the humor comes from the unexpected switch between the literal pizza ingredient and the slang term for money.'}, next=(), config={'configurable': {'thread_id': '1', 'checkpoint_ns': '', 'checkpoint_id': '1f094a6c-df48-61f8-8003-5b064cdfaabb'}}, metadata={'source': 'loop', 'writes': {'generate_explanation': {'explanation': 'This joke is a pun, which is a form of wordplay that exploits multiple meanings of a word or of similar-sounding words for an intended humorous or rhetorical effect.\\n\\nHere\\'s the breakdown:\\n\\n1.  **\"Dough\" (Meaning 1 - Pizza Context):** In the literal world of pizza, \"dough\" is the essential, primary ingredient – the base of the crust. Without enough dough, you can\\'t make a pizza, or it would be a very small, sad pizza.\\n\\n2.  **\"Dough\" (Meaning 2 - Job/Money Context):** \"Dough\" is also a very common slang term for **money**. When someone quits a job because they \"didn\\'t get enough dough,\" it means they weren\\'t paid enough.\\n\\nThe joke works by setting up a scenario about quitting a job (which immediately makes you think of money/pay) but applying it to a pizza. The punchline cleverly uses the word \"dough,\" which has a perfectly logical meaning in both the pizza\\'s literal composition and the human reason for quitting a job.\\n\\nSo, the humor comes from the unexpected switch between the literal pizza ingredient and the slang term for money.'}}, 'step': 3, 'parents': {}, 'thread_id': '1'}, created_at='2025-09-18T15:47:38.932069+00:00', parent_config={'configurable': {'thread_id': '1', 'checkpoint_ns': '', 'checkpoint_id': '1f094a64-72bd-62e9-8002-7d7490d71c37'}}, tasks=()),\n",
       " StateSnapshot(values={'topic': 'samosa'}, next=('generate_joke',), config={'configurable': {'thread_id': '1', 'checkpoint_ns': '', 'checkpoint_id': '1f094a6b-ba05-659f-8001-b792e831b62a'}}, metadata={'source': 'update', 'writes': {'__start__': {'topic': 'samosa'}}, 'step': 1, 'parents': {}, 'thread_id': '1', 'checkpoint_id': '1f094a54-8844-6093-8000-b5ca31a22826', 'checkpoint_ns': ''}, created_at='2025-09-18T15:47:08.181443+00:00', parent_config={'configurable': {'thread_id': '1', 'checkpoint_ns': '', 'checkpoint_id': '1f094a54-8844-6093-8000-b5ca31a22826'}}, tasks=(PregelTask(id='009f0d28-bc7b-2f09-bc2e-9dda0fbec375', name='generate_joke', path=('__pregel_pull', 'generate_joke'), error=None, interrupts=(), state=None, result={'joke': 'Why did the samosa go to therapy?\\n\\nBecause it had too many *issues* and felt a little *fried*!'}),)),\n",
       " StateSnapshot(values={'topic': 'samosa', 'joke': \"Why did the pizza quit its job?\\n\\nBecause it didn't get enough dough!\", 'explanation': 'This is a classic pun! The humor comes from the word \"dough\" having two very different meanings that both fit the context in a silly way:\\n\\n1.  **\"Dough\" as Money:** In informal language, \"dough\" is a slang term for money. When people quit a job, a very common reason is that they aren\\'t getting paid enough, or they want \"more dough.\"\\n2.  **\"Dough\" as a Pizza Ingredient:** Literally, a pizza is made from dough (the mixture of flour, water, yeast, etc., that forms its base).\\n\\nThe joke anthropomorphizes the pizza (gives it human qualities, like having a job and being able to quit). The punchline plays on the double meaning:\\n\\n*   On one level, it suggests the pizza, acting like a person, wasn\\'t getting paid enough money (\"dough\").\\n*   On another, more literal and absurd level, it implies the pizza itself didn\\'t have enough of its own fundamental ingredient (\"dough\") to be a proper pizza, which is funny because a pizza *is* dough!\\n\\nThe unexpected twist from the human reason for quitting (money) to the literal component of the pizza (its base ingredient) is what makes the pun work and gets a chuckle.'}, next=(), config={'configurable': {'thread_id': '1', 'checkpoint_ns': '', 'checkpoint_id': '1f094a67-a929-60af-8003-271512424598'}}, metadata={'source': 'loop', 'writes': {'generate_explanation': {'explanation': 'This is a classic pun! The humor comes from the word \"dough\" having two very different meanings that both fit the context in a silly way:\\n\\n1.  **\"Dough\" as Money:** In informal language, \"dough\" is a slang term for money. When people quit a job, a very common reason is that they aren\\'t getting paid enough, or they want \"more dough.\"\\n2.  **\"Dough\" as a Pizza Ingredient:** Literally, a pizza is made from dough (the mixture of flour, water, yeast, etc., that forms its base).\\n\\nThe joke anthropomorphizes the pizza (gives it human qualities, like having a job and being able to quit). The punchline plays on the double meaning:\\n\\n*   On one level, it suggests the pizza, acting like a person, wasn\\'t getting paid enough money (\"dough\").\\n*   On another, more literal and absurd level, it implies the pizza itself didn\\'t have enough of its own fundamental ingredient (\"dough\") to be a proper pizza, which is funny because a pizza *is* dough!\\n\\nThe unexpected twist from the human reason for quitting (money) to the literal component of the pizza (its base ingredient) is what makes the pun work and gets a chuckle.'}}, 'step': 3, 'parents': {}, 'thread_id': '1'}, created_at='2025-09-18T15:45:19.039300+00:00', parent_config={'configurable': {'thread_id': '1', 'checkpoint_ns': '', 'checkpoint_id': '1f094a64-72bd-62e9-8002-7d7490d71c37'}}, tasks=()),\n",
       " StateSnapshot(values={'topic': 'samosa', 'joke': \"Why did the pizza quit its job?\\n\\nBecause it didn't get enough dough!\"}, next=('generate_explanation',), config={'configurable': {'thread_id': '1', 'checkpoint_ns': '', 'checkpoint_id': '1f094a64-72bd-62e9-8002-7d7490d71c37'}}, metadata={'source': 'update', 'writes': {'generate_joke': {'topic': 'samosa'}}, 'step': 2, 'parents': {}, 'thread_id': '1', 'checkpoint_id': '1f094a56-4266-66c3-8001-b5e4b0c57e2b', 'checkpoint_ns': ''}, created_at='2025-09-18T15:43:52.802173+00:00', parent_config={'configurable': {'thread_id': '1', 'checkpoint_ns': '', 'checkpoint_id': '1f094a56-4266-66c3-8001-b5e4b0c57e2b'}}, tasks=(PregelTask(id='8e9dbe69-35ba-ee40-361f-0c57020a8de8', name='generate_explanation', path=('__pregel_pull', 'generate_explanation'), error=None, interrupts=(), state=None, result={'explanation': 'This is a classic pun! The humor comes from the word \"dough\" having two very different meanings that both fit the context in a silly way:\\n\\n1.  **\"Dough\" as Money:** In informal language, \"dough\" is a slang term for money. When people quit a job, a very common reason is that they aren\\'t getting paid enough, or they want \"more dough.\"\\n2.  **\"Dough\" as a Pizza Ingredient:** Literally, a pizza is made from dough (the mixture of flour, water, yeast, etc., that forms its base).\\n\\nThe joke anthropomorphizes the pizza (gives it human qualities, like having a job and being able to quit). The punchline plays on the double meaning:\\n\\n*   On one level, it suggests the pizza, acting like a person, wasn\\'t getting paid enough money (\"dough\").\\n*   On another, more literal and absurd level, it implies the pizza itself didn\\'t have enough of its own fundamental ingredient (\"dough\") to be a proper pizza, which is funny because a pizza *is* dough!\\n\\nThe unexpected twist from the human reason for quitting (money) to the literal component of the pizza (its base ingredient) is what makes the pun work and gets a chuckle.'}),)),\n",
       " StateSnapshot(values={'topic': 'pizza', 'joke': 'Why did the pizza go to therapy?\\n\\nBecause it was feeling a little *dough*-wn!', 'explanation': 'This joke is a classic pun! Here\\'s how it works:\\n\\n1.  **The Setup:** A pizza going to therapy is funny because pizzas are inanimate objects. The joke personifies the pizza, giving it human emotions and problems that would lead someone to seek therapy.\\n\\n2.  **The Punchline (The Pun):** The humor comes from the phrase \"**dough**-wn.\"\\n    *   **\"Dough\":** This is a key ingredient in pizza (the base).\\n    *   **\"Down\":** When someone says they are \"feeling down,\" it means they are sad, unhappy, or depressed. Therapy is a common place people go when they are feeling down.\\n    *   **The Pun:** The joke combines \"dough\" and \"down\" to create \"**dough**-wn.\" This sounds almost exactly like \"down\" but cleverly incorporates a pizza-related word.\\n\\n**In essence:** The pizza is \"feeling down\" (sad), but because it\\'s a pizza, its \"down\" is spelled and pronounced with \"dough\" – its primary component.\\n\\n**Why it\\'s funny:** The humor comes from the unexpected wordplay. It takes a common phrase (\"feeling down\") and twists it with a food-related term (\"dough\") in a way that perfectly fits the subject (pizza) while still conveying the original meaning of sadness or needing emotional support.'}, next=(), config={'configurable': {'thread_id': '1', 'checkpoint_ns': '', 'checkpoint_id': '1f094a62-159c-697b-8002-17e9253e766d'}}, metadata={'source': 'loop', 'writes': {'generate_explanation': {'explanation': 'This joke is a classic pun! Here\\'s how it works:\\n\\n1.  **The Setup:** A pizza going to therapy is funny because pizzas are inanimate objects. The joke personifies the pizza, giving it human emotions and problems that would lead someone to seek therapy.\\n\\n2.  **The Punchline (The Pun):** The humor comes from the phrase \"**dough**-wn.\"\\n    *   **\"Dough\":** This is a key ingredient in pizza (the base).\\n    *   **\"Down\":** When someone says they are \"feeling down,\" it means they are sad, unhappy, or depressed. Therapy is a common place people go when they are feeling down.\\n    *   **The Pun:** The joke combines \"dough\" and \"down\" to create \"**dough**-wn.\" This sounds almost exactly like \"down\" but cleverly incorporates a pizza-related word.\\n\\n**In essence:** The pizza is \"feeling down\" (sad), but because it\\'s a pizza, its \"down\" is spelled and pronounced with \"dough\" – its primary component.\\n\\n**Why it\\'s funny:** The humor comes from the unexpected wordplay. It takes a common phrase (\"feeling down\") and twists it with a food-related term (\"dough\") in a way that perfectly fits the subject (pizza) while still conveying the original meaning of sadness or needing emotional support.'}}, 'step': 2, 'parents': {}, 'thread_id': '1'}, created_at='2025-09-18T15:42:49.349977+00:00', parent_config={'configurable': {'thread_id': '1', 'checkpoint_ns': '', 'checkpoint_id': '1f094a5f-c185-6567-8001-8ac90e0fb40b'}}, tasks=()),\n",
       " StateSnapshot(values={'topic': 'pizza', 'joke': 'Why did the pizza go to therapy?\\n\\nBecause it was feeling a little *dough*-wn!'}, next=('generate_explanation',), config={'configurable': {'thread_id': '1', 'checkpoint_ns': '', 'checkpoint_id': '1f094a5f-c185-6567-8001-8ac90e0fb40b'}}, metadata={'source': 'loop', 'writes': {'generate_joke': {'joke': 'Why did the pizza go to therapy?\\n\\nBecause it was feeling a little *dough*-wn!'}}, 'step': 1, 'parents': {}, 'thread_id': '1'}, created_at='2025-09-18T15:41:46.845322+00:00', parent_config={'configurable': {'thread_id': '1', 'checkpoint_ns': '', 'checkpoint_id': '1f094a54-8844-6093-8000-b5ca31a22826'}}, tasks=(PregelTask(id='9dca9b82-a0d5-d44f-fbd8-bd545ebc420e', name='generate_explanation', path=('__pregel_pull', 'generate_explanation'), error=None, interrupts=(), state=None, result={'explanation': 'This joke is a classic pun! Here\\'s how it works:\\n\\n1.  **The Setup:** A pizza going to therapy is funny because pizzas are inanimate objects. The joke personifies the pizza, giving it human emotions and problems that would lead someone to seek therapy.\\n\\n2.  **The Punchline (The Pun):** The humor comes from the phrase \"**dough**-wn.\"\\n    *   **\"Dough\":** This is a key ingredient in pizza (the base).\\n    *   **\"Down\":** When someone says they are \"feeling down,\" it means they are sad, unhappy, or depressed. Therapy is a common place people go when they are feeling down.\\n    *   **The Pun:** The joke combines \"dough\" and \"down\" to create \"**dough**-wn.\" This sounds almost exactly like \"down\" but cleverly incorporates a pizza-related word.\\n\\n**In essence:** The pizza is \"feeling down\" (sad), but because it\\'s a pizza, its \"down\" is spelled and pronounced with \"dough\" – its primary component.\\n\\n**Why it\\'s funny:** The humor comes from the unexpected wordplay. It takes a common phrase (\"feeling down\") and twists it with a food-related term (\"dough\") in a way that perfectly fits the subject (pizza) while still conveying the original meaning of sadness or needing emotional support.'}),)),\n",
       " StateSnapshot(values={'topic': 'pizza', 'joke': \"Why did the pizza quit its job?\\n\\nBecause it didn't get enough dough!\", 'explanation': 'This joke is a classic example of a **pun**, which relies on a word having two different meanings.\\n\\nHere\\'s the breakdown:\\n\\n1.  **\"Dough\" (Meaning 1 - Literal):** When you think of pizza, \"dough\" immediately brings to mind the soft, raw mixture of flour, water, and yeast that forms the base of the pizza. A pizza literally *is* made from dough.\\n\\n2.  **\"Dough\" (Meaning 2 - Slang):** In informal English, \"dough\" is a common slang term for **money**.\\n\\n3.  **The Punchline:**\\n    *   When someone quits a job, a very common reason is that they aren\\'t getting paid enough – they don\\'t get enough **money** (dough).\\n    *   The joke plays on this by applying the reason to a pizza, making it sound like the pizza is complaining about its salary, using the word \"dough\" in its slang sense.\\n\\nThe humor comes from the unexpected switch in meaning. You start by thinking of \"dough\" in the context of pizza (the ingredient), but then the punchline forces you to consider the other meaning (money) in the context of a job, creating a silly and clever wordplay. The absurdity of a pizza having a job and quitting it also adds to the comedic effect!'}, next=(), config={'configurable': {'thread_id': '1', 'checkpoint_ns': '', 'checkpoint_id': '1f094a57-2f0e-6437-8002-423c0e562ea6'}}, metadata={'source': 'loop', 'writes': {'generate_explanation': {'explanation': 'This joke is a classic example of a **pun**, which relies on a word having two different meanings.\\n\\nHere\\'s the breakdown:\\n\\n1.  **\"Dough\" (Meaning 1 - Literal):** When you think of pizza, \"dough\" immediately brings to mind the soft, raw mixture of flour, water, and yeast that forms the base of the pizza. A pizza literally *is* made from dough.\\n\\n2.  **\"Dough\" (Meaning 2 - Slang):** In informal English, \"dough\" is a common slang term for **money**.\\n\\n3.  **The Punchline:**\\n    *   When someone quits a job, a very common reason is that they aren\\'t getting paid enough – they don\\'t get enough **money** (dough).\\n    *   The joke plays on this by applying the reason to a pizza, making it sound like the pizza is complaining about its salary, using the word \"dough\" in its slang sense.\\n\\nThe humor comes from the unexpected switch in meaning. You start by thinking of \"dough\" in the context of pizza (the ingredient), but then the punchline forces you to consider the other meaning (money) in the context of a job, creating a silly and clever wordplay. The absurdity of a pizza having a job and quitting it also adds to the comedic effect!'}}, 'step': 2, 'parents': {}, 'thread_id': '1'}, created_at='2025-09-18T15:37:56.737975+00:00', parent_config={'configurable': {'thread_id': '1', 'checkpoint_ns': '', 'checkpoint_id': '1f094a56-4266-66c3-8001-b5e4b0c57e2b'}}, tasks=()),\n",
       " StateSnapshot(values={'topic': 'pizza', 'joke': \"Why did the pizza quit its job?\\n\\nBecause it didn't get enough dough!\"}, next=('generate_explanation',), config={'configurable': {'thread_id': '1', 'checkpoint_ns': '', 'checkpoint_id': '1f094a56-4266-66c3-8001-b5e4b0c57e2b'}}, metadata={'source': 'loop', 'writes': {'generate_joke': {'joke': \"Why did the pizza quit its job?\\n\\nBecause it didn't get enough dough!\"}}, 'step': 1, 'parents': {}, 'thread_id': '1'}, created_at='2025-09-18T15:37:31.923833+00:00', parent_config={'configurable': {'thread_id': '1', 'checkpoint_ns': '', 'checkpoint_id': '1f094a54-8844-6093-8000-b5ca31a22826'}}, tasks=(PregelTask(id='16cbb28c-6e23-ab50-7312-5517efe3a794', name='generate_explanation', path=('__pregel_pull', 'generate_explanation'), error=None, interrupts=(), state=None, result={'explanation': 'This joke is a classic example of a **pun**, which relies on a word having two different meanings.\\n\\nHere\\'s the breakdown:\\n\\n1.  **\"Dough\" (Meaning 1 - Literal):** When you think of pizza, \"dough\" immediately brings to mind the soft, raw mixture of flour, water, and yeast that forms the base of the pizza. A pizza literally *is* made from dough.\\n\\n2.  **\"Dough\" (Meaning 2 - Slang):** In informal English, \"dough\" is a common slang term for **money**.\\n\\n3.  **The Punchline:**\\n    *   When someone quits a job, a very common reason is that they aren\\'t getting paid enough – they don\\'t get enough **money** (dough).\\n    *   The joke plays on this by applying the reason to a pizza, making it sound like the pizza is complaining about its salary, using the word \"dough\" in its slang sense.\\n\\nThe humor comes from the unexpected switch in meaning. You start by thinking of \"dough\" in the context of pizza (the ingredient), but then the punchline forces you to consider the other meaning (money) in the context of a job, creating a silly and clever wordplay. The absurdity of a pizza having a job and quitting it also adds to the comedic effect!'}),)),\n",
       " StateSnapshot(values={'topic': 'pizza'}, next=('generate_joke',), config={'configurable': {'thread_id': '1', 'checkpoint_ns': '', 'checkpoint_id': '1f094a54-8844-6093-8000-b5ca31a22826'}}, metadata={'source': 'loop', 'writes': None, 'step': 0, 'parents': {}, 'thread_id': '1'}, created_at='2025-09-18T15:36:45.562689+00:00', parent_config={'configurable': {'thread_id': '1', 'checkpoint_ns': '', 'checkpoint_id': '1f094a54-87e8-6c96-bfff-335daa9ddc9c'}}, tasks=(PregelTask(id='1ef625bb-df15-7eaa-9357-0b5830053c9e', name='generate_joke', path=('__pregel_pull', 'generate_joke'), error=None, interrupts=(), state=None, result={'joke': \"Why did the pizza quit its job?\\n\\nBecause it didn't get enough dough!\"}),)),\n",
       " StateSnapshot(values={}, next=('__start__',), config={'configurable': {'thread_id': '1', 'checkpoint_ns': '', 'checkpoint_id': '1f094a54-87e8-6c96-bfff-335daa9ddc9c'}}, metadata={'source': 'input', 'writes': {'__start__': {'topic': 'pizza'}}, 'step': -1, 'parents': {}, 'thread_id': '1'}, created_at='2025-09-18T15:36:45.525314+00:00', parent_config=None, tasks=(PregelTask(id='35e1d842-7b13-6465-5c7b-cd22a0d9a4e2', name='__start__', path=('__pregel_pull', '__start__'), error=None, interrupts=(), state=None, result={'topic': 'pizza'}),))]"
      ]
     },
     "execution_count": 27,
     "metadata": {},
     "output_type": "execute_result"
    }
   ],
   "source": [
    "list(workflow.get_state_history(config1))"
   ]
  },
  {
   "cell_type": "markdown",
   "id": "d8435127",
   "metadata": {},
   "source": [
    "### Fault Tolerance"
   ]
  },
  {
   "cell_type": "code",
   "execution_count": null,
   "id": "b7aacf7e",
   "metadata": {},
   "outputs": [],
   "source": [
    "from langgraph.graph import StateGraph, END\n",
    "from langgraph.checkpoint.memory import InMemorySaver\n",
    "from typing import TypedDict\n",
    "import time"
   ]
  },
  {
   "cell_type": "code",
   "execution_count": null,
   "id": "095de12d",
   "metadata": {},
   "outputs": [],
   "source": [
    "# 1. Define the state\n",
    "class CrashState(TypedDict):\n",
    "    input: str\n",
    "    step1: str\n",
    "    step2: str"
   ]
  },
  {
   "cell_type": "code",
   "execution_count": null,
   "id": "13365a36",
   "metadata": {},
   "outputs": [],
   "source": [
    "# 2. Define steps\n",
    "def step_1(state: CrashState) -> CrashState:\n",
    "    print(\"✅ Step 1 executed\")\n",
    "    return {\"step1\": \"done\", \"input\": state[\"input\"]}\n",
    "\n",
    "def step_2(state: CrashState) -> CrashState:\n",
    "    print(\"⏳ Step 2 hanging... now manually interrupt from the notebook toolbar (STOP button)\")\n",
    "    time.sleep(1000)  # Simulate long-running hang\n",
    "    return {\"step2\": \"done\"}\n",
    "\n",
    "def step_3(state: CrashState) -> CrashState:\n",
    "    print(\"✅ Step 3 executed\")\n",
    "    return {\"done\": True}"
   ]
  },
  {
   "cell_type": "code",
   "execution_count": null,
   "id": "2838a3a1",
   "metadata": {},
   "outputs": [],
   "source": [
    "# 3. Build the graph\n",
    "builder = StateGraph(CrashState)\n",
    "builder.add_node(\"step_1\", step_1)\n",
    "builder.add_node(\"step_2\", step_2)\n",
    "builder.add_node(\"step_3\", step_3)\n",
    "\n",
    "builder.set_entry_point(\"step_1\")\n",
    "builder.add_edge(\"step_1\", \"step_2\")\n",
    "builder.add_edge(\"step_2\", \"step_3\")\n",
    "builder.add_edge(\"step_3\", END)\n",
    "\n",
    "checkpointer = InMemorySaver()\n",
    "graph = builder.compile(checkpointer=checkpointer)"
   ]
  },
  {
   "cell_type": "code",
   "execution_count": null,
   "id": "17c012e7",
   "metadata": {},
   "outputs": [
    {
     "name": "stdout",
     "output_type": "stream",
     "text": [
      "▶️ Running graph: Please manually interrupt during Step 2...\n",
      "✅ Step 1 executed\n",
      "⏳ Step 2 hanging... now manually interrupt from the notebook toolbar (STOP button)\n"
     ]
    }
   ],
   "source": [
    "try:\n",
    "    print(\"▶️ Running graph: Please manually interrupt during Step 2...\")\n",
    "    graph.invoke({\"input\": \"start\"}, config={\"configurable\": {\"thread_id\": 'thread-1'}})\n",
    "except KeyboardInterrupt:\n",
    "    print(\"❌ Kernel manually interrupted (crash simulated).\")"
   ]
  },
  {
   "cell_type": "code",
   "execution_count": null,
   "id": "95df3f98",
   "metadata": {},
   "outputs": [],
   "source": [
    "# 6. Re-run to show fault-tolerant resume\n",
    "print(\"\\n🔁 Re-running the graph to demonstrate fault tolerance...\")\n",
    "final_state = graph.invoke(None, config={\"configurable\": {\"thread_id\": 'thread-1'}})\n",
    "print(\"\\n✅ Final State:\", final_state)"
   ]
  },
  {
   "cell_type": "code",
   "execution_count": null,
   "id": "4f61ccbd",
   "metadata": {},
   "outputs": [],
   "source": [
    "list(graph.get_state_history({\"configurable\": {\"thread_id\": 'thread-1'}}))"
   ]
  }
 ],
 "metadata": {
  "kernelspec": {
   "display_name": "Python 3",
   "language": "python",
   "name": "python3"
  },
  "language_info": {
   "codemirror_mode": {
    "name": "ipython",
    "version": 3
   },
   "file_extension": ".py",
   "mimetype": "text/x-python",
   "name": "python",
   "nbconvert_exporter": "python",
   "pygments_lexer": "ipython3",
   "version": "3.10.17"
  }
 },
 "nbformat": 4,
 "nbformat_minor": 5
}
